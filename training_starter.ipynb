{
 "cells": [
  {
   "cell_type": "code",
   "execution_count": null,
   "id": "2e2da4c6",
   "metadata": {},
   "outputs": [],
   "source": [
    "from google.colab import drive\n",
    "drive.mount('/content/drive')"
   ]
  },
  {
   "cell_type": "code",
   "execution_count": null,
   "id": "60679af8",
   "metadata": {},
   "outputs": [],
   "source": [
    "import os\n",
    "import getpass\n",
    "\n",
    "token = getpass.getpass('Please paste your GitHub Personal Access Token and press Enter: ')\n",
    "repo_name = input('Please enter the name of the GitHub repository: ')\n",
    "github_username = \"sven12301\"\n",
    "\n",
    "print(\"\\nAttempting to clone the repository...\")\n",
    "\n",
    "repo_url = f\"https://{token}@github.com/{github_username}/{repo_name}.git\"\n",
    "temp_clone_dir = f\"/content/{repo_name}\"\n",
    "drive_target_dir = f\"/content/drive/MyDrive/{repo_name}\"\n",
    "\n",
    "!git clone {repo_url} {temp_clone_dir}\n",
    "\n",
    "if os.path.exists(temp_clone_dir):\n",
    "    print(\"✅ Git clone successful.\")\n",
    "    !cp -r {temp_clone_dir} {drive_target_dir}\n",
    "    print(f\"✅ Successfully copied '{repo_name}' to your Google Drive.\")\n",
    "    print(f\"You can now find your repository in Google Drive at: {drive_target_dir}\")\n",
    "    print(\"You can open the notebooks from the file browser on the left under 'drive/MyDrive/'.\")\n",
    "else:\n",
    "    print(\"❌ Error: Git clone failed. Please check your token, repository name, and permissions.\")\n"
   ]
  }
 ],
 "metadata": {
  "kernelspec": {
   "display_name": "Python 3",
   "language": "python",
   "name": "python3"
  },
  "language_info": {
   "name": "python",
   "version": "3.12.3"
  }
 },
 "nbformat": 4,
 "nbformat_minor": 5
}
